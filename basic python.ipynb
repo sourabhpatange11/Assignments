{
 "cells": [
  {
   "cell_type": "code",
   "execution_count": 1,
   "id": "8dbb758b",
   "metadata": {},
   "outputs": [
    {
     "data": {
      "text/plain": [
       "10"
      ]
     },
     "execution_count": 1,
     "metadata": {},
     "output_type": "execute_result"
    }
   ],
   "source": [
    "a1= 10\n",
    "a1"
   ]
  },
  {
   "cell_type": "code",
   "execution_count": 2,
   "id": "3dd9cb77",
   "metadata": {},
   "outputs": [
    {
     "data": {
      "text/plain": [
       "int"
      ]
     },
     "execution_count": 2,
     "metadata": {},
     "output_type": "execute_result"
    }
   ],
   "source": [
    "type(a1)"
   ]
  },
  {
   "cell_type": "code",
   "execution_count": 3,
   "id": "6550d5a8",
   "metadata": {},
   "outputs": [
    {
     "data": {
      "text/plain": [
       "10.3"
      ]
     },
     "execution_count": 3,
     "metadata": {},
     "output_type": "execute_result"
    }
   ],
   "source": [
    "b1 =10.3\n",
    "b1"
   ]
  },
  {
   "cell_type": "code",
   "execution_count": 4,
   "id": "61defe1c",
   "metadata": {},
   "outputs": [
    {
     "data": {
      "text/plain": [
       "float"
      ]
     },
     "execution_count": 4,
     "metadata": {},
     "output_type": "execute_result"
    }
   ],
   "source": [
    "type(b1)"
   ]
  },
  {
   "cell_type": "code",
   "execution_count": 5,
   "id": "58a9d5f8",
   "metadata": {},
   "outputs": [
    {
     "data": {
      "text/plain": [
       "True"
      ]
     },
     "execution_count": 5,
     "metadata": {},
     "output_type": "execute_result"
    }
   ],
   "source": [
    "a1=True\n",
    "a1"
   ]
  },
  {
   "cell_type": "code",
   "execution_count": 6,
   "id": "86eab56e",
   "metadata": {},
   "outputs": [
    {
     "name": "stdout",
     "output_type": "stream",
     "text": [
      "True\n"
     ]
    }
   ],
   "source": [
    "print(a1)"
   ]
  },
  {
   "cell_type": "code",
   "execution_count": 7,
   "id": "cf78d0cb",
   "metadata": {},
   "outputs": [
    {
     "data": {
      "text/plain": [
       "bool"
      ]
     },
     "execution_count": 7,
     "metadata": {},
     "output_type": "execute_result"
    }
   ],
   "source": [
    "type(a1)"
   ]
  },
  {
   "cell_type": "code",
   "execution_count": 9,
   "id": "f0e1111a",
   "metadata": {},
   "outputs": [
    {
     "data": {
      "text/plain": [
       "'hello world'"
      ]
     },
     "execution_count": 9,
     "metadata": {},
     "output_type": "execute_result"
    }
   ],
   "source": [
    "a1=(\"hello world\")\n",
    "a1"
   ]
  },
  {
   "cell_type": "code",
   "execution_count": 10,
   "id": "365d0620",
   "metadata": {},
   "outputs": [
    {
     "data": {
      "text/plain": [
       "str"
      ]
     },
     "execution_count": 10,
     "metadata": {},
     "output_type": "execute_result"
    }
   ],
   "source": [
    "type(a1)"
   ]
  },
  {
   "cell_type": "code",
   "execution_count": 11,
   "id": "72043f60",
   "metadata": {},
   "outputs": [
    {
     "data": {
      "text/plain": [
       "(20+30j)"
      ]
     },
     "execution_count": 11,
     "metadata": {},
     "output_type": "execute_result"
    }
   ],
   "source": [
    "b1=20+30j\n",
    "b1"
   ]
  },
  {
   "cell_type": "code",
   "execution_count": 13,
   "id": "91dd8e5b",
   "metadata": {},
   "outputs": [
    {
     "data": {
      "text/plain": [
       "complex"
      ]
     },
     "execution_count": 13,
     "metadata": {},
     "output_type": "execute_result"
    }
   ],
   "source": [
    "type(b1)"
   ]
  },
  {
   "cell_type": "code",
   "execution_count": null,
   "id": "cfbfc96c",
   "metadata": {},
   "outputs": [],
   "source": [
    "#operators\n",
    "#airthmetic\n",
    "#relational\n",
    "#logical"
   ]
  },
  {
   "cell_type": "code",
   "execution_count": null,
   "id": "e802b27b",
   "metadata": {},
   "outputs": [],
   "source": [
    "#aithmetic operator\n",
    "#a+,-,*,/"
   ]
  },
  {
   "cell_type": "code",
   "execution_count": 14,
   "id": "353122eb",
   "metadata": {},
   "outputs": [],
   "source": [
    "a=10\n",
    "b=20\n"
   ]
  },
  {
   "cell_type": "code",
   "execution_count": 15,
   "id": "20de1b60",
   "metadata": {},
   "outputs": [
    {
     "data": {
      "text/plain": [
       "(10, 20)"
      ]
     },
     "execution_count": 15,
     "metadata": {},
     "output_type": "execute_result"
    }
   ],
   "source": [
    "(a,b)"
   ]
  },
  {
   "cell_type": "code",
   "execution_count": 16,
   "id": "71e7f0f8",
   "metadata": {},
   "outputs": [
    {
     "data": {
      "text/plain": [
       "30"
      ]
     },
     "execution_count": 16,
     "metadata": {},
     "output_type": "execute_result"
    }
   ],
   "source": [
    "a+b"
   ]
  },
  {
   "cell_type": "code",
   "execution_count": 17,
   "id": "999bf8ca",
   "metadata": {},
   "outputs": [
    {
     "data": {
      "text/plain": [
       "-10"
      ]
     },
     "execution_count": 17,
     "metadata": {},
     "output_type": "execute_result"
    }
   ],
   "source": [
    "a-b"
   ]
  },
  {
   "cell_type": "code",
   "execution_count": 18,
   "id": "925085d8",
   "metadata": {},
   "outputs": [
    {
     "data": {
      "text/plain": [
       "200"
      ]
     },
     "execution_count": 18,
     "metadata": {},
     "output_type": "execute_result"
    }
   ],
   "source": [
    "a*b"
   ]
  },
  {
   "cell_type": "code",
   "execution_count": 19,
   "id": "eb027ab8",
   "metadata": {},
   "outputs": [
    {
     "data": {
      "text/plain": [
       "0.5"
      ]
     },
     "execution_count": 19,
     "metadata": {},
     "output_type": "execute_result"
    }
   ],
   "source": [
    "a/b"
   ]
  },
  {
   "cell_type": "code",
   "execution_count": 20,
   "id": "4d48b9e7",
   "metadata": {},
   "outputs": [],
   "source": [
    "#relatonal  operators\n",
    "#<,>,==,"
   ]
  },
  {
   "cell_type": "code",
   "execution_count": 21,
   "id": "7da18c16",
   "metadata": {},
   "outputs": [],
   "source": [
    "a=20\n",
    "b=30"
   ]
  },
  {
   "cell_type": "code",
   "execution_count": 23,
   "id": "813b3320",
   "metadata": {},
   "outputs": [
    {
     "data": {
      "text/plain": [
       "False"
      ]
     },
     "execution_count": 23,
     "metadata": {},
     "output_type": "execute_result"
    }
   ],
   "source": [
    "a<b"
   ]
  },
  {
   "cell_type": "code",
   "execution_count": 24,
   "id": "dc087623",
   "metadata": {},
   "outputs": [
    {
     "data": {
      "text/plain": [
       "False"
      ]
     },
     "execution_count": 24,
     "metadata": {},
     "output_type": "execute_result"
    }
   ],
   "source": [
    "b>a"
   ]
  },
  {
   "cell_type": "code",
   "execution_count": 25,
   "id": "76c04d1e",
   "metadata": {},
   "outputs": [
    {
     "data": {
      "text/plain": [
       "False"
      ]
     },
     "execution_count": 25,
     "metadata": {},
     "output_type": "execute_result"
    }
   ],
   "source": [
    "a>b"
   ]
  },
  {
   "cell_type": "code",
   "execution_count": null,
   "id": "c1ecdeed",
   "metadata": {},
   "outputs": [],
   "source": [
    "#logical operators\n",
    "# & |"
   ]
  },
  {
   "cell_type": "code",
   "execution_count": 26,
   "id": "804f3c45",
   "metadata": {},
   "outputs": [],
   "source": [
    "a= True\n",
    "b=False\n"
   ]
  },
  {
   "cell_type": "code",
   "execution_count": 27,
   "id": "5976e0b9",
   "metadata": {},
   "outputs": [
    {
     "data": {
      "text/plain": [
       "False"
      ]
     },
     "execution_count": 27,
     "metadata": {},
     "output_type": "execute_result"
    }
   ],
   "source": [
    "a&b"
   ]
  },
  {
   "cell_type": "code",
   "execution_count": 29,
   "id": "f94361ae",
   "metadata": {},
   "outputs": [
    {
     "data": {
      "text/plain": [
       "False"
      ]
     },
     "execution_count": 29,
     "metadata": {},
     "output_type": "execute_result"
    }
   ],
   "source": [
    "b&a"
   ]
  },
  {
   "cell_type": "code",
   "execution_count": 30,
   "id": "5e5b63f0",
   "metadata": {},
   "outputs": [
    {
     "data": {
      "text/plain": [
       "False"
      ]
     },
     "execution_count": 30,
     "metadata": {},
     "output_type": "execute_result"
    }
   ],
   "source": [
    "b&b"
   ]
  },
  {
   "cell_type": "code",
   "execution_count": 31,
   "id": "f7e38efa",
   "metadata": {},
   "outputs": [
    {
     "data": {
      "text/plain": [
       "True"
      ]
     },
     "execution_count": 31,
     "metadata": {},
     "output_type": "execute_result"
    }
   ],
   "source": [
    "a|b"
   ]
  },
  {
   "cell_type": "code",
   "execution_count": 32,
   "id": "0147dc53",
   "metadata": {},
   "outputs": [
    {
     "data": {
      "text/plain": [
       "True"
      ]
     },
     "execution_count": 32,
     "metadata": {},
     "output_type": "execute_result"
    }
   ],
   "source": [
    "b|a"
   ]
  },
  {
   "cell_type": "code",
   "execution_count": 33,
   "id": "b51027b6",
   "metadata": {},
   "outputs": [
    {
     "data": {
      "text/plain": [
       "True"
      ]
     },
     "execution_count": 33,
     "metadata": {},
     "output_type": "execute_result"
    }
   ],
   "source": [
    "a|a"
   ]
  },
  {
   "cell_type": "code",
   "execution_count": 34,
   "id": "24b90282",
   "metadata": {},
   "outputs": [
    {
     "data": {
      "text/plain": [
       "False"
      ]
     },
     "execution_count": 34,
     "metadata": {},
     "output_type": "execute_result"
    }
   ],
   "source": [
    "b|b"
   ]
  },
  {
   "cell_type": "code",
   "execution_count": null,
   "id": "9193d311",
   "metadata": {},
   "outputs": [],
   "source": [
    "a= \"hello world\"\n"
   ]
  },
  {
   "cell_type": "code",
   "execution_count": null,
   "id": "a31a29ba",
   "metadata": {},
   "outputs": [],
   "source": [
    "#String = sequence of characterstic with in single qoutes,double,and tripple qoutes\n"
   ]
  },
  {
   "cell_type": "code",
   "execution_count": 1,
   "id": "04462442",
   "metadata": {},
   "outputs": [],
   "source": [
    "str1=\"this is string\""
   ]
  },
  {
   "cell_type": "code",
   "execution_count": 2,
   "id": "736fd92f",
   "metadata": {},
   "outputs": [
    {
     "data": {
      "text/plain": [
       "'this is string'"
      ]
     },
     "execution_count": 2,
     "metadata": {},
     "output_type": "execute_result"
    }
   ],
   "source": [
    "str1"
   ]
  },
  {
   "cell_type": "code",
   "execution_count": 4,
   "id": "fb5a7694",
   "metadata": {},
   "outputs": [
    {
     "name": "stdout",
     "output_type": "stream",
     "text": [
      "this is string\n"
     ]
    }
   ],
   "source": [
    "print(str1)"
   ]
  },
  {
   "cell_type": "code",
   "execution_count": 5,
   "id": "beb9d72f",
   "metadata": {},
   "outputs": [],
   "source": [
    "my_string= \"My name is John\"     # indexing"
   ]
  },
  {
   "cell_type": "code",
   "execution_count": 6,
   "id": "15a6188c",
   "metadata": {},
   "outputs": [
    {
     "data": {
      "text/plain": [
       "'M'"
      ]
     },
     "execution_count": 6,
     "metadata": {},
     "output_type": "execute_result"
    }
   ],
   "source": [
    "my_string[0]"
   ]
  },
  {
   "cell_type": "code",
   "execution_count": 7,
   "id": "0b3f6d9b",
   "metadata": {},
   "outputs": [
    {
     "data": {
      "text/plain": [
       "'n'"
      ]
     },
     "execution_count": 7,
     "metadata": {},
     "output_type": "execute_result"
    }
   ],
   "source": [
    "my_string[-1]"
   ]
  },
  {
   "cell_type": "code",
   "execution_count": 12,
   "id": "3881932f",
   "metadata": {},
   "outputs": [
    {
     "data": {
      "text/plain": [
       "[]"
      ]
     },
     "execution_count": 12,
     "metadata": {},
     "output_type": "execute_result"
    }
   ],
   "source": [
    "my_string[4:8]"
   ]
  },
  {
   "cell_type": "code",
   "execution_count": null,
   "id": "a04572a9",
   "metadata": {},
   "outputs": [],
   "source": [
    "#sting functions"
   ]
  },
  {
   "cell_type": "code",
   "execution_count": null,
   "id": "ad5bdccb",
   "metadata": {},
   "outputs": [],
   "source": [
    "#finding length of string \n",
    "(len)"
   ]
  },
  {
   "cell_type": "code",
   "execution_count": 13,
   "id": "bdaee77a",
   "metadata": {},
   "outputs": [],
   "source": [
    "s=\"My name is Sourabh\""
   ]
  },
  {
   "cell_type": "code",
   "execution_count": 14,
   "id": "97a7b404",
   "metadata": {},
   "outputs": [
    {
     "name": "stdout",
     "output_type": "stream",
     "text": [
      "My name is Sourabh\n"
     ]
    }
   ],
   "source": [
    "print(s)"
   ]
  },
  {
   "cell_type": "code",
   "execution_count": 15,
   "id": "3be1f189",
   "metadata": {},
   "outputs": [
    {
     "data": {
      "text/plain": [
       "18"
      ]
     },
     "execution_count": 15,
     "metadata": {},
     "output_type": "execute_result"
    }
   ],
   "source": [
    "len(s)"
   ]
  },
  {
   "cell_type": "code",
   "execution_count": 16,
   "id": "75f8fd75",
   "metadata": {},
   "outputs": [
    {
     "name": "stdout",
     "output_type": "stream",
     "text": [
      "i am  from kolhapur\n"
     ]
    },
    {
     "data": {
      "text/plain": [
       "19"
      ]
     },
     "execution_count": 16,
     "metadata": {},
     "output_type": "execute_result"
    }
   ],
   "source": [
    "a= \"i am  from kolhapur\"\n",
    "print(a)\n",
    "len(a)"
   ]
  },
  {
   "cell_type": "code",
   "execution_count": 17,
   "id": "d8a40150",
   "metadata": {},
   "outputs": [
    {
     "name": "stdout",
     "output_type": "stream",
     "text": [
      "my name is sourabh anant patange ,i am from kolapur.\n"
     ]
    },
    {
     "data": {
      "text/plain": [
       "52"
      ]
     },
     "execution_count": 17,
     "metadata": {},
     "output_type": "execute_result"
    }
   ],
   "source": [
    "s=\"my name is sourabh anant patange ,i am from kolapur.\"\n",
    "print(s)\n",
    "len(s)"
   ]
  },
  {
   "cell_type": "code",
   "execution_count": null,
   "id": "0b205465",
   "metadata": {},
   "outputs": [],
   "source": [
    "#converting string to lower case\n",
    "#lower"
   ]
  },
  {
   "cell_type": "code",
   "execution_count": 19,
   "id": "1a1e819a",
   "metadata": {},
   "outputs": [
    {
     "data": {
      "text/plain": [
       "'sourabh anant patange'"
      ]
     },
     "execution_count": 19,
     "metadata": {},
     "output_type": "execute_result"
    }
   ],
   "source": [
    "S= \"SOURABH ANANT PATANGE\"\n",
    "S.lower()"
   ]
  },
  {
   "cell_type": "code",
   "execution_count": 20,
   "id": "385be84b",
   "metadata": {},
   "outputs": [
    {
     "name": "stdout",
     "output_type": "stream",
     "text": [
      "SOURABH\n"
     ]
    },
    {
     "data": {
      "text/plain": [
       "'sourabh'"
      ]
     },
     "execution_count": 20,
     "metadata": {},
     "output_type": "execute_result"
    }
   ],
   "source": [
    "S=\"SOURABH\"\n",
    "print(S)\n",
    "S.lower()"
   ]
  },
  {
   "cell_type": "code",
   "execution_count": null,
   "id": "c99de80d",
   "metadata": {},
   "outputs": [],
   "source": [
    "#converting string into upper case\n",
    "#upper"
   ]
  },
  {
   "cell_type": "code",
   "execution_count": 24,
   "id": "5a250fdd",
   "metadata": {},
   "outputs": [
    {
     "data": {
      "text/plain": [
       "'SOURABH ANANT PATANGE'"
      ]
     },
     "execution_count": 24,
     "metadata": {},
     "output_type": "execute_result"
    }
   ],
   "source": [
    "s=\"sourabh anant patange\" \n",
    "s.upper()"
   ]
  },
  {
   "cell_type": "code",
   "execution_count": 27,
   "id": "93a6f5fd",
   "metadata": {},
   "outputs": [
    {
     "data": {
      "text/plain": [
       "'sourabh anant patange'"
      ]
     },
     "execution_count": 27,
     "metadata": {},
     "output_type": "execute_result"
    }
   ],
   "source": [
    "s"
   ]
  },
  {
   "cell_type": "code",
   "execution_count": 29,
   "id": "d6f301bc",
   "metadata": {},
   "outputs": [
    {
     "data": {
      "text/plain": [
       "'SOURABH ANANT PATANGE'"
      ]
     },
     "execution_count": 29,
     "metadata": {},
     "output_type": "execute_result"
    }
   ],
   "source": [
    "s.upper()\n"
   ]
  },
  {
   "cell_type": "code",
   "execution_count": 30,
   "id": "28f298b2",
   "metadata": {},
   "outputs": [
    {
     "data": {
      "text/plain": [
       "21"
      ]
     },
     "execution_count": 30,
     "metadata": {},
     "output_type": "execute_result"
    }
   ],
   "source": [
    "len(s)"
   ]
  },
  {
   "cell_type": "code",
   "execution_count": null,
   "id": "d12a97e6",
   "metadata": {},
   "outputs": [],
   "source": [
    "#replacing substring\n",
    "#replace"
   ]
  },
  {
   "cell_type": "code",
   "execution_count": 35,
   "id": "6ab847a5",
   "metadata": {},
   "outputs": [
    {
     "data": {
      "text/plain": [
       "'amruta anant patange'"
      ]
     },
     "execution_count": 35,
     "metadata": {},
     "output_type": "execute_result"
    }
   ],
   "source": [
    "s.replace(\"sourabh\",\"amruta\")\n"
   ]
  },
  {
   "cell_type": "code",
   "execution_count": 36,
   "id": "55999218",
   "metadata": {},
   "outputs": [
    {
     "data": {
      "text/plain": [
       "'sourabh anant patange'"
      ]
     },
     "execution_count": 36,
     "metadata": {},
     "output_type": "execute_result"
    }
   ],
   "source": [
    "s.replace(\"amruta\",\"sourabh\")"
   ]
  },
  {
   "cell_type": "code",
   "execution_count": 42,
   "id": "475704dd",
   "metadata": {},
   "outputs": [],
   "source": [
    "#count = it counts number of substrings present in given string"
   ]
  },
  {
   "cell_type": "code",
   "execution_count": 40,
   "id": "bdb39243",
   "metadata": {},
   "outputs": [
    {
     "data": {
      "text/plain": [
       "3"
      ]
     },
     "execution_count": 40,
     "metadata": {},
     "output_type": "execute_result"
    }
   ],
   "source": [
    "new_string= \"hello\",\"hello\",\"hello\"\n",
    "new_string.count(\"hello\")"
   ]
  },
  {
   "cell_type": "code",
   "execution_count": 38,
   "id": "7ee5bd7b",
   "metadata": {},
   "outputs": [
    {
     "data": {
      "text/plain": [
       "0"
      ]
     },
     "execution_count": 38,
     "metadata": {},
     "output_type": "execute_result"
    }
   ],
   "source": [
    "new_string.count(\"o\")"
   ]
  },
  {
   "cell_type": "code",
   "execution_count": 44,
   "id": "b73a765d",
   "metadata": {},
   "outputs": [
    {
     "data": {
      "text/plain": [
       "1"
      ]
     },
     "execution_count": 44,
     "metadata": {},
     "output_type": "execute_result"
    }
   ],
   "source": [
    "new_string = \"hello hello world\"\n",
    "new_string.count(\"world\")"
   ]
  },
  {
   "cell_type": "code",
   "execution_count": 45,
   "id": "a340f190",
   "metadata": {},
   "outputs": [
    {
     "data": {
      "text/plain": [
       "'hello hello universe'"
      ]
     },
     "execution_count": 45,
     "metadata": {},
     "output_type": "execute_result"
    }
   ],
   "source": [
    "new_string.replace(\"world\",\"universe\")"
   ]
  },
  {
   "cell_type": "code",
   "execution_count": 46,
   "id": "11595ab7",
   "metadata": {},
   "outputs": [
    {
     "data": {
      "text/plain": [
       "'hi hi world'"
      ]
     },
     "execution_count": 46,
     "metadata": {},
     "output_type": "execute_result"
    }
   ],
   "source": [
    "new_string.replace(\"hello\",\"hi\")"
   ]
  },
  {
   "cell_type": "code",
   "execution_count": 47,
   "id": "7d27e3f8",
   "metadata": {},
   "outputs": [
    {
     "name": "stdout",
     "output_type": "stream",
     "text": [
      "hello hello world\n"
     ]
    }
   ],
   "source": [
    "print(new_string)"
   ]
  },
  {
   "cell_type": "code",
   "execution_count": null,
   "id": "ca421d86",
   "metadata": {},
   "outputs": [],
   "source": [
    "#find\n",
    "#finding the index of substring"
   ]
  },
  {
   "cell_type": "code",
   "execution_count": 48,
   "id": "bb9142a5",
   "metadata": {},
   "outputs": [
    {
     "data": {
      "text/plain": [
       "3"
      ]
     },
     "execution_count": 48,
     "metadata": {},
     "output_type": "execute_result"
    }
   ],
   "source": [
    "s1=\"this is sparta\"\n",
    "s1.find(\"s\")"
   ]
  },
  {
   "cell_type": "code",
   "execution_count": 49,
   "id": "af1be05b",
   "metadata": {},
   "outputs": [
    {
     "data": {
      "text/plain": [
       "8"
      ]
     },
     "execution_count": 49,
     "metadata": {},
     "output_type": "execute_result"
    }
   ],
   "source": [
    "s1.find(\"sparta\")"
   ]
  },
  {
   "cell_type": "code",
   "execution_count": 52,
   "id": "eaa59c31",
   "metadata": {},
   "outputs": [
    {
     "data": {
      "text/plain": [
       "2"
      ]
     },
     "execution_count": 52,
     "metadata": {},
     "output_type": "execute_result"
    }
   ],
   "source": [
    "s1.count(\"is\")"
   ]
  },
  {
   "cell_type": "code",
   "execution_count": 53,
   "id": "5fea4557",
   "metadata": {},
   "outputs": [
    {
     "data": {
      "text/plain": [
       "1"
      ]
     },
     "execution_count": 53,
     "metadata": {},
     "output_type": "execute_result"
    }
   ],
   "source": [
    "s1.count(\"this\")"
   ]
  },
  {
   "cell_type": "code",
   "execution_count": null,
   "id": "cedfd266",
   "metadata": {},
   "outputs": [],
   "source": [
    "#split\n",
    "#splitting a string\n"
   ]
  },
  {
   "cell_type": "code",
   "execution_count": 54,
   "id": "f1281516",
   "metadata": {},
   "outputs": [
    {
     "name": "stdout",
     "output_type": "stream",
     "text": [
      "i like apples,mangos,watermelon,pinaapple,kiwi\n"
     ]
    }
   ],
   "source": [
    "s1=\"i like apples,mangos,watermelon,pinaapple,kiwi\"\n",
    "print(s1)"
   ]
  },
  {
   "cell_type": "code",
   "execution_count": 55,
   "id": "f44167ee",
   "metadata": {},
   "outputs": [
    {
     "data": {
      "text/plain": [
       "['i like apples', 'mangos', 'watermelon', 'pinaapple', 'kiwi']"
      ]
     },
     "execution_count": 55,
     "metadata": {},
     "output_type": "execute_result"
    }
   ],
   "source": [
    "s1.split(\",\")"
   ]
  },
  {
   "cell_type": "code",
   "execution_count": 56,
   "id": "43b1b478",
   "metadata": {},
   "outputs": [
    {
     "data": {
      "text/plain": [
       "51"
      ]
     },
     "execution_count": 56,
     "metadata": {},
     "output_type": "execute_result"
    }
   ],
   "source": [
    "s2= \"virat kohali is the number one batsman in the world\"\n",
    "len(s2)"
   ]
  },
  {
   "cell_type": "code",
   "execution_count": 57,
   "id": "fe4c16ea",
   "metadata": {},
   "outputs": [
    {
     "data": {
      "text/plain": [
       "['vir', 't koh', 'li is the number one b', 'tsm', 'n in the world']"
      ]
     },
     "execution_count": 57,
     "metadata": {},
     "output_type": "execute_result"
    }
   ],
   "source": [
    "s2.split(\"a\")"
   ]
  },
  {
   "cell_type": "code",
   "execution_count": 2,
   "id": "ba6b0e12",
   "metadata": {},
   "outputs": [
    {
     "data": {
      "text/plain": [
       "['rohit sharma ', ' no.1 batsman']"
      ]
     },
     "execution_count": 2,
     "metadata": {},
     "output_type": "execute_result"
    }
   ],
   "source": [
    "s3= \"rohit sharma is no.1 batsman\"\n",
    "\n",
    "s3.split(\"is\")"
   ]
  },
  {
   "cell_type": "code",
   "execution_count": null,
   "id": "d2dffc21",
   "metadata": {},
   "outputs": [],
   "source": [
    "#data structures in python\n",
    "#list\n",
    "#tuple\n",
    "#dictonary\n",
    "#set"
   ]
  },
  {
   "cell_type": "code",
   "execution_count": null,
   "id": "1d2e2912",
   "metadata": {},
   "outputs": [],
   "source": [
    "#tupple\n"
   ]
  },
  {
   "cell_type": "code",
   "execution_count": null,
   "id": "d815703e",
   "metadata": {},
   "outputs": [],
   "source": [
    "#tluple is an ordered collection of elements enclosed within()\n",
    "#tuple are immutable(not changable)"
   ]
  },
  {
   "cell_type": "code",
   "execution_count": 1,
   "id": "d4748a54",
   "metadata": {},
   "outputs": [],
   "source": [
    "tup1=(1,2,3,True,3.114,5-4j)"
   ]
  },
  {
   "cell_type": "code",
   "execution_count": 2,
   "id": "7f4a4c54",
   "metadata": {},
   "outputs": [
    {
     "data": {
      "text/plain": [
       "tuple"
      ]
     },
     "execution_count": 2,
     "metadata": {},
     "output_type": "execute_result"
    }
   ],
   "source": [
    "type(tup1)"
   ]
  },
  {
   "cell_type": "code",
   "execution_count": 5,
   "id": "2add71a0",
   "metadata": {},
   "outputs": [
    {
     "data": {
      "text/plain": [
       "2"
      ]
     },
     "execution_count": 5,
     "metadata": {},
     "output_type": "execute_result"
    }
   ],
   "source": [
    "tup1[1]"
   ]
  },
  {
   "cell_type": "code",
   "execution_count": 7,
   "id": "ba3b59e3",
   "metadata": {},
   "outputs": [
    {
     "data": {
      "text/plain": [
       "3.114"
      ]
     },
     "execution_count": 7,
     "metadata": {},
     "output_type": "execute_result"
    }
   ],
   "source": [
    "tup1[-2]"
   ]
  },
  {
   "cell_type": "code",
   "execution_count": 8,
   "id": "91d09a22",
   "metadata": {},
   "outputs": [],
   "source": [
    "t1=(1,2,3)\n",
    "t2=(4,5,6)\n"
   ]
  },
  {
   "cell_type": "code",
   "execution_count": 9,
   "id": "4d117815",
   "metadata": {},
   "outputs": [
    {
     "data": {
      "text/plain": [
       "(1, 2, 3, 4, 5, 6)"
      ]
     },
     "execution_count": 9,
     "metadata": {},
     "output_type": "execute_result"
    }
   ],
   "source": [
    "t1+t2 #connecting tupple"
   ]
  },
  {
   "cell_type": "code",
   "execution_count": 10,
   "id": "5865d7f0",
   "metadata": {},
   "outputs": [
    {
     "data": {
      "text/plain": [
       "('sparta', 300, 'sparta', 300, 'sparta', 300, 'sparta', 300, 'sparta', 300)"
      ]
     },
     "execution_count": 10,
     "metadata": {},
     "output_type": "execute_result"
    }
   ],
   "source": [
    "t1=(\"sparta\",300)  #repeat tupple\n",
    "t1*5"
   ]
  },
  {
   "cell_type": "code",
   "execution_count": 11,
   "id": "480b7a75",
   "metadata": {},
   "outputs": [
    {
     "data": {
      "text/plain": [
       "4"
      ]
     },
     "execution_count": 11,
     "metadata": {},
     "output_type": "execute_result"
    }
   ],
   "source": [
    "min(t2)"
   ]
  },
  {
   "cell_type": "code",
   "execution_count": 12,
   "id": "b5fa8393",
   "metadata": {},
   "outputs": [
    {
     "data": {
      "text/plain": [
       "6"
      ]
     },
     "execution_count": 12,
     "metadata": {},
     "output_type": "execute_result"
    }
   ],
   "source": [
    "max(t2)"
   ]
  },
  {
   "cell_type": "code",
   "execution_count": null,
   "id": "802055de",
   "metadata": {},
   "outputs": [],
   "source": [
    "#list\n",
    "#list an ordered coolection of elements enclosed in []\n",
    "#mutable{changeable}"
   ]
  },
  {
   "cell_type": "code",
   "execution_count": 14,
   "id": "5dfc112d",
   "metadata": {},
   "outputs": [],
   "source": [
    "l1=[1,2,3,4,5,6,7,8,9]"
   ]
  },
  {
   "cell_type": "code",
   "execution_count": 15,
   "id": "98cb6146",
   "metadata": {},
   "outputs": [
    {
     "data": {
      "text/plain": [
       "list"
      ]
     },
     "execution_count": 15,
     "metadata": {},
     "output_type": "execute_result"
    }
   ],
   "source": [
    "type(l1)"
   ]
  },
  {
   "cell_type": "code",
   "execution_count": 16,
   "id": "501b6610",
   "metadata": {},
   "outputs": [
    {
     "data": {
      "text/plain": [
       "1"
      ]
     },
     "execution_count": 16,
     "metadata": {},
     "output_type": "execute_result"
    }
   ],
   "source": [
    "l1[0]"
   ]
  },
  {
   "cell_type": "code",
   "execution_count": 17,
   "id": "8eb1dd7a",
   "metadata": {},
   "outputs": [
    {
     "data": {
      "text/plain": [
       "8"
      ]
     },
     "execution_count": 17,
     "metadata": {},
     "output_type": "execute_result"
    }
   ],
   "source": [
    "l1[-2]"
   ]
  },
  {
   "cell_type": "code",
   "execution_count": null,
   "id": "49919d41",
   "metadata": {},
   "outputs": [],
   "source": [
    "#append \n",
    "#adding new element"
   ]
  },
  {
   "cell_type": "code",
   "execution_count": 19,
   "id": "bff3c5b4",
   "metadata": {},
   "outputs": [
    {
     "name": "stdout",
     "output_type": "stream",
     "text": [
      "[1, 2, 3, 4, 5, 6, 7, 8, 9, 10, 10]\n"
     ]
    }
   ],
   "source": [
    "l1.append(10)\n",
    "print(l1)"
   ]
  },
  {
   "cell_type": "code",
   "execution_count": 20,
   "id": "85105447",
   "metadata": {},
   "outputs": [
    {
     "name": "stdout",
     "output_type": "stream",
     "text": [
      "[1, 2, 3, 4, 5, 6, 7, 8, 9, 10]\n"
     ]
    }
   ],
   "source": [
    "l1.pop(10)   #eliminate last element\n",
    "print(l1)"
   ]
  },
  {
   "cell_type": "code",
   "execution_count": 24,
   "id": "6cd07fa2",
   "metadata": {},
   "outputs": [
    {
     "name": "stdout",
     "output_type": "stream",
     "text": [
      "[10, 9, 8, 7, 6, 5, 4, 3, 2, 1]\n"
     ]
    }
   ],
   "source": [
    "l1.reverse()  #revesreing elements\n",
    "print(l1)"
   ]
  },
  {
   "cell_type": "code",
   "execution_count": 25,
   "id": "00e72c99",
   "metadata": {},
   "outputs": [],
   "source": [
    "l1.insert(3,\"sourabh\") #inserting elements"
   ]
  },
  {
   "cell_type": "code",
   "execution_count": 26,
   "id": "77db81e7",
   "metadata": {},
   "outputs": [
    {
     "name": "stdout",
     "output_type": "stream",
     "text": [
      "[10, 9, 8, 'sourabh', 7, 6, 5, 4, 3, 2, 1]\n"
     ]
    }
   ],
   "source": [
    "print(l1)"
   ]
  },
  {
   "cell_type": "code",
   "execution_count": 28,
   "id": "c19784b2",
   "metadata": {},
   "outputs": [
    {
     "name": "stdout",
     "output_type": "stream",
     "text": [
      "[10, 9, 8, 7, 6, 5, 4, 3, 2, 1]\n"
     ]
    }
   ],
   "source": [
    "l1.remove(\"sourabh\")\n",
    "print(l1)"
   ]
  },
  {
   "cell_type": "code",
   "execution_count": 29,
   "id": "59b68f06",
   "metadata": {},
   "outputs": [
    {
     "data": {
      "text/plain": [
       "[10, 9, 8, 7, 6, 5, 4, 3, 2, 1]"
      ]
     },
     "execution_count": 29,
     "metadata": {},
     "output_type": "execute_result"
    }
   ],
   "source": [
    "l1"
   ]
  },
  {
   "cell_type": "code",
   "execution_count": 31,
   "id": "273db0f8",
   "metadata": {},
   "outputs": [
    {
     "name": "stdout",
     "output_type": "stream",
     "text": [
      "[1, 2, 3, 4, 5, 6, 7, 8, 9, 10]\n"
     ]
    }
   ],
   "source": [
    "l1.sort() #for sorting\n",
    "print(l1)"
   ]
  },
  {
   "cell_type": "code",
   "execution_count": null,
   "id": "823929e3",
   "metadata": {},
   "outputs": [],
   "source": [
    "#dictonary\n",
    "#dictonary is an unordered collection of key-value pairs enclosed with {}\n",
    "#mutable(changable)\n"
   ]
  },
  {
   "cell_type": "code",
   "execution_count": 2,
   "id": "7793c2a8",
   "metadata": {},
   "outputs": [],
   "source": [
    "d1={\"apple\":50,\"mango\":60,\"banana\":70}"
   ]
  },
  {
   "cell_type": "code",
   "execution_count": 3,
   "id": "46745a05",
   "metadata": {},
   "outputs": [
    {
     "data": {
      "text/plain": [
       "{'apple': 50, 'mango': 60, 'banana': 70}"
      ]
     },
     "execution_count": 3,
     "metadata": {},
     "output_type": "execute_result"
    }
   ],
   "source": [
    "d1"
   ]
  },
  {
   "cell_type": "code",
   "execution_count": 5,
   "id": "279a6f63",
   "metadata": {},
   "outputs": [
    {
     "data": {
      "text/plain": [
       "dict_keys(['apple', 'mango', 'banana'])"
      ]
     },
     "execution_count": 5,
     "metadata": {},
     "output_type": "execute_result"
    }
   ],
   "source": [
    "d1.keys()  #for finding all keys"
   ]
  },
  {
   "cell_type": "code",
   "execution_count": 6,
   "id": "930b5856",
   "metadata": {},
   "outputs": [
    {
     "data": {
      "text/plain": [
       "dict_values([50, 60, 70])"
      ]
     },
     "execution_count": 6,
     "metadata": {},
     "output_type": "execute_result"
    }
   ],
   "source": [
    "d1.values()   #for finding values"
   ]
  },
  {
   "cell_type": "code",
   "execution_count": 10,
   "id": "9721d0c1",
   "metadata": {},
   "outputs": [
    {
     "data": {
      "text/plain": [
       "{'apple': 50, 'mango': 60, 'banana': 70, 'orange': 25}"
      ]
     },
     "execution_count": 10,
     "metadata": {},
     "output_type": "execute_result"
    }
   ],
   "source": [
    "d1[\"orange\"]= 25\n",
    "d1"
   ]
  },
  {
   "cell_type": "code",
   "execution_count": 11,
   "id": "cfe85436",
   "metadata": {},
   "outputs": [
    {
     "data": {
      "text/plain": [
       "{'apple': 50, 'mango': 60, 'banana': 70, 'orange': 25, 'kiwi': 50}"
      ]
     },
     "execution_count": 11,
     "metadata": {},
     "output_type": "execute_result"
    }
   ],
   "source": [
    "d1[\"kiwi\"]=50\n",
    "d1"
   ]
  },
  {
   "cell_type": "code",
   "execution_count": 12,
   "id": "b35a9ab3",
   "metadata": {},
   "outputs": [
    {
     "data": {
      "text/plain": [
       "dict_keys(['apple', 'mango', 'banana', 'orange', 'kiwi'])"
      ]
     },
     "execution_count": 12,
     "metadata": {},
     "output_type": "execute_result"
    }
   ],
   "source": [
    "d1.keys()"
   ]
  },
  {
   "cell_type": "code",
   "execution_count": 14,
   "id": "90e57045",
   "metadata": {},
   "outputs": [
    {
     "data": {
      "text/plain": [
       "dict_values([50, 60, 70, 25, 50])"
      ]
     },
     "execution_count": 14,
     "metadata": {},
     "output_type": "execute_result"
    }
   ],
   "source": [
    "d1.values()"
   ]
  },
  {
   "cell_type": "code",
   "execution_count": 16,
   "id": "f03ad70c",
   "metadata": {},
   "outputs": [
    {
     "data": {
      "text/plain": [
       "{'apple juice': 10, 'mango juice': 20, 'banana juice': 30, 'orange juice': 40}"
      ]
     },
     "execution_count": 16,
     "metadata": {},
     "output_type": "execute_result"
    }
   ],
   "source": [
    "d2={\"apple juice\":10,\"mango juice\":20,\"banana juice\":30,\"orange juice\":40}\n",
    "d2"
   ]
  },
  {
   "cell_type": "code",
   "execution_count": 17,
   "id": "29a842c5",
   "metadata": {},
   "outputs": [
    {
     "data": {
      "text/plain": [
       "{'apple': 50,\n",
       " 'mango': 60,\n",
       " 'banana': 70,\n",
       " 'orange': 25,\n",
       " 'kiwi': 50,\n",
       " 'apple juice': 10,\n",
       " 'mango juice': 20,\n",
       " 'banana juice': 30,\n",
       " 'orange juice': 40}"
      ]
     },
     "execution_count": 17,
     "metadata": {},
     "output_type": "execute_result"
    }
   ],
   "source": [
    "d1.update(d2)   #for adding two dictonaries\n",
    "d1"
   ]
  },
  {
   "cell_type": "code",
   "execution_count": 19,
   "id": "c11935fc",
   "metadata": {},
   "outputs": [
    {
     "name": "stdout",
     "output_type": "stream",
     "text": [
      "{'apple': 50, 'mango': 60, 'banana': 70, 'orange': 25, 'kiwi': 50, 'apple juice': 10, 'mango juice': 20, 'banana juice': 30, 'orange juice': 40}\n"
     ]
    }
   ],
   "source": [
    "print(d1)"
   ]
  },
  {
   "cell_type": "code",
   "execution_count": 20,
   "id": "2239b123",
   "metadata": {},
   "outputs": [
    {
     "data": {
      "text/plain": [
       "{'apple': 50,\n",
       " 'mango': 60,\n",
       " 'banana': 70,\n",
       " 'orange': 25,\n",
       " 'kiwi': 50,\n",
       " 'apple juice': 10,\n",
       " 'mango juice': 20,\n",
       " 'banana juice': 30}"
      ]
     },
     "execution_count": 20,
     "metadata": {},
     "output_type": "execute_result"
    }
   ],
   "source": [
    "d1.pop(\"orange juice\")  #for remove\n",
    "d1"
   ]
  },
  {
   "cell_type": "code",
   "execution_count": null,
   "id": "834d5cfa",
   "metadata": {},
   "outputs": [],
   "source": [
    "#set\n",
    "#an unordered and uniindexed collection of elements enclosed in {}\n",
    "#duplicates are not allowed\n"
   ]
  },
  {
   "cell_type": "code",
   "execution_count": 21,
   "id": "c9be66b1",
   "metadata": {},
   "outputs": [
    {
     "data": {
      "text/plain": [
       "{1, 2, 3, 4, 5, 6, 7, 8, 9}"
      ]
     },
     "execution_count": 21,
     "metadata": {},
     "output_type": "execute_result"
    }
   ],
   "source": [
    "s1={1,2,3,4,5,6,7,8,9}\n",
    "s1"
   ]
  },
  {
   "cell_type": "code",
   "execution_count": 22,
   "id": "9ba1ed75",
   "metadata": {},
   "outputs": [
    {
     "data": {
      "text/plain": [
       "set"
      ]
     },
     "execution_count": 22,
     "metadata": {},
     "output_type": "execute_result"
    }
   ],
   "source": [
    "type(s1)"
   ]
  },
  {
   "cell_type": "code",
   "execution_count": 24,
   "id": "a9192908",
   "metadata": {},
   "outputs": [
    {
     "data": {
      "text/plain": [
       "{1, 2, 3, 4, 5, 6, 7, 8, 9, 10}"
      ]
     },
     "execution_count": 24,
     "metadata": {},
     "output_type": "execute_result"
    }
   ],
   "source": [
    "s1.add(10)    #for add\n",
    "s1"
   ]
  },
  {
   "cell_type": "code",
   "execution_count": 29,
   "id": "e200030b",
   "metadata": {},
   "outputs": [
    {
     "data": {
      "text/plain": [
       "{1, 10, 2, 3, 4, 5, 6, 7, 8, 9, 'hello,11'}"
      ]
     },
     "execution_count": 29,
     "metadata": {},
     "output_type": "execute_result"
    }
   ],
   "source": [
    "s1.update([\"hello,11\"])  #for adding multiple elements\n",
    "s1"
   ]
  },
  {
   "cell_type": "code",
   "execution_count": 31,
   "id": "3ef9270b",
   "metadata": {},
   "outputs": [
    {
     "data": {
      "text/plain": [
       "{1, 2, 3, 4, 5, 6, 7, 8, 9, 10}"
      ]
     },
     "execution_count": 31,
     "metadata": {},
     "output_type": "execute_result"
    }
   ],
   "source": [
    "s1.remove(\"hello,11\")   #for remove elements\n",
    "s1"
   ]
  },
  {
   "cell_type": "code",
   "execution_count": 32,
   "id": "851dc19c",
   "metadata": {},
   "outputs": [
    {
     "data": {
      "text/plain": [
       "{1, 2, 3, 4, 5, 6, 7, 8}"
      ]
     },
     "execution_count": 32,
     "metadata": {},
     "output_type": "execute_result"
    }
   ],
   "source": [
    "s1={1,2,3,4}\n",
    "s2={5,6,7,8}\n",
    "s1.union(s2)        #for union of two sets"
   ]
  },
  {
   "cell_type": "code",
   "execution_count": 33,
   "id": "92a342ca",
   "metadata": {},
   "outputs": [
    {
     "data": {
      "text/plain": [
       "{3, 4, 5, 6}"
      ]
     },
     "execution_count": 33,
     "metadata": {},
     "output_type": "execute_result"
    }
   ],
   "source": [
    "s1={1,2,3,4,5,6}\n",
    "s2={3,4,5,6,7,8,9,10}\n",
    "s1.intersection(s2)   #intersection of two sets  #to get common values"
   ]
  },
  {
   "cell_type": "code",
   "execution_count": null,
   "id": "d29442d1",
   "metadata": {},
   "outputs": [],
   "source": [
    "#if statement\n",
    "#else statement\n"
   ]
  },
  {
   "cell_type": "code",
   "execution_count": 34,
   "id": "e3888e16",
   "metadata": {},
   "outputs": [],
   "source": [
    "a=10\n",
    "b=20"
   ]
  },
  {
   "cell_type": "code",
   "execution_count": 35,
   "id": "774016e1",
   "metadata": {},
   "outputs": [
    {
     "name": "stdout",
     "output_type": "stream",
     "text": [
      "b is greater than a\n"
     ]
    }
   ],
   "source": [
    "if b>a:\n",
    "    print(\"b is greater than a\")"
   ]
  },
  {
   "cell_type": "code",
   "execution_count": 36,
   "id": "e28c423d",
   "metadata": {},
   "outputs": [
    {
     "name": "stdout",
     "output_type": "stream",
     "text": [
      "b is greater than a\n"
     ]
    }
   ],
   "source": [
    "if a>b:\n",
    "    print(\"a is greater than b\")\n",
    "else :\n",
    "    print(\"b is greater than a\")"
   ]
  },
  {
   "cell_type": "code",
   "execution_count": 37,
   "id": "b779bfa3",
   "metadata": {},
   "outputs": [],
   "source": [
    "a=20\n",
    "b=30"
   ]
  },
  {
   "cell_type": "code",
   "execution_count": 38,
   "id": "b6a37693",
   "metadata": {},
   "outputs": [
    {
     "name": "stdout",
     "output_type": "stream",
     "text": [
      "a is smaller than b\n"
     ]
    }
   ],
   "source": [
    "if a>b:\n",
    "    print(\"b is smaller than a\")\n",
    "else:\n",
    "    print(\"a is smaller than b\")"
   ]
  },
  {
   "cell_type": "code",
   "execution_count": 42,
   "id": "2eabea73",
   "metadata": {},
   "outputs": [],
   "source": [
    "a=10\n",
    "b=20\n",
    "c=30"
   ]
  },
  {
   "cell_type": "code",
   "execution_count": 43,
   "id": "7c938c0a",
   "metadata": {},
   "outputs": [
    {
     "name": "stdout",
     "output_type": "stream",
     "text": [
      "c is bigger\n"
     ]
    }
   ],
   "source": [
    "if (a>b)&(a>c):\n",
    "    print(\"a is bigger\")\n",
    "elif (b>c)&(b>a):\n",
    "    print(\"b is bigger\")\n",
    "else:\n",
    "    print(\"c is bigger\")"
   ]
  },
  {
   "cell_type": "code",
   "execution_count": null,
   "id": "e7e33707",
   "metadata": {},
   "outputs": [],
   "source": [
    "#looping statements\n",
    "#use to repeat task multiple times"
   ]
  },
  {
   "cell_type": "code",
   "execution_count": null,
   "id": "e77e3395",
   "metadata": {},
   "outputs": [],
   "source": [
    "#while loop\n"
   ]
  },
  {
   "cell_type": "code",
   "execution_count": 44,
   "id": "c3491890",
   "metadata": {},
   "outputs": [
    {
     "name": "stdout",
     "output_type": "stream",
     "text": [
      "1\n",
      "2\n",
      "3\n",
      "4\n",
      "5\n",
      "6\n",
      "7\n",
      "8\n",
      "9\n",
      "10\n"
     ]
    }
   ],
   "source": [
    "i=1\n",
    "while i <=10:\n",
    "    print(i)\n",
    "    i=i+1"
   ]
  },
  {
   "cell_type": "code",
   "execution_count": 45,
   "id": "7df0fb86",
   "metadata": {},
   "outputs": [
    {
     "name": "stdout",
     "output_type": "stream",
     "text": [
      "2\n",
      "4\n",
      "6\n",
      "8\n",
      "10\n",
      "12\n",
      "14\n",
      "16\n",
      "18\n",
      "20\n"
     ]
    }
   ],
   "source": [
    "i=2\n",
    "while i<=20:\n",
    "    print(i)\n",
    "    i=i+2"
   ]
  },
  {
   "cell_type": "code",
   "execution_count": 48,
   "id": "4be5100f",
   "metadata": {},
   "outputs": [
    {
     "name": "stdout",
     "output_type": "stream",
     "text": [
      "3\n",
      "6\n",
      "9\n",
      "12\n",
      "15\n",
      "18\n",
      "21\n",
      "24\n",
      "27\n",
      "30\n"
     ]
    }
   ],
   "source": [
    "i=3\n",
    "while i<=30:\n",
    "    print(i)\n",
    "    i=i+3"
   ]
  },
  {
   "cell_type": "code",
   "execution_count": 49,
   "id": "7f88fdde",
   "metadata": {},
   "outputs": [
    {
     "name": "stdout",
     "output_type": "stream",
     "text": [
      "4\n",
      "8\n",
      "12\n",
      "16\n",
      "20\n",
      "24\n",
      "28\n",
      "32\n",
      "36\n",
      "40\n"
     ]
    }
   ],
   "source": [
    "i=4\n",
    "while i<=40:\n",
    "    print(i)\n",
    "    i=i+4"
   ]
  },
  {
   "cell_type": "code",
   "execution_count": 50,
   "id": "c40d5f44",
   "metadata": {},
   "outputs": [
    {
     "name": "stdout",
     "output_type": "stream",
     "text": [
      "5\n",
      "10\n",
      "15\n",
      "20\n",
      "25\n",
      "30\n",
      "35\n",
      "40\n",
      "45\n",
      "50\n"
     ]
    }
   ],
   "source": [
    "i=5\n",
    "while i<=50:\n",
    "    print(i)\n",
    "    i=i+5"
   ]
  },
  {
   "cell_type": "code",
   "execution_count": 53,
   "id": "91059584",
   "metadata": {},
   "outputs": [
    {
     "name": "stdout",
     "output_type": "stream",
     "text": [
      "6\n",
      "12\n",
      "18\n",
      "24\n",
      "30\n",
      "36\n",
      "42\n",
      "48\n",
      "54\n",
      "60\n"
     ]
    }
   ],
   "source": [
    "i=6\n",
    "while i<=60:\n",
    "    print(i)\n",
    "    i=i+6"
   ]
  },
  {
   "cell_type": "code",
   "execution_count": 54,
   "id": "36a57dd0",
   "metadata": {},
   "outputs": [
    {
     "name": "stdout",
     "output_type": "stream",
     "text": [
      "7\n",
      "14\n",
      "21\n",
      "28\n",
      "35\n",
      "42\n",
      "49\n",
      "56\n",
      "63\n",
      "70\n"
     ]
    }
   ],
   "source": [
    "i=7\n",
    "while i<=70:\n",
    "    print(i)\n",
    "    i=i+7"
   ]
  },
  {
   "cell_type": "code",
   "execution_count": 56,
   "id": "17039e71",
   "metadata": {},
   "outputs": [
    {
     "name": "stdout",
     "output_type": "stream",
     "text": [
      "2 * 1 = 2\n",
      "2 * 2 = 4\n",
      "2 * 3 = 6\n",
      "2 * 4 = 8\n",
      "2 * 5 = 10\n",
      "2 * 6 = 12\n",
      "2 * 7 = 14\n",
      "2 * 8 = 16\n",
      "2 * 9 = 18\n",
      "2 * 10 = 20\n"
     ]
    }
   ],
   "source": [
    "i=1\n",
    "n=2\n",
    "while i <=10:\n",
    "    print(n,\"*\",i,\"=\",n*i)\n",
    "    i=i+1"
   ]
  },
  {
   "cell_type": "code",
   "execution_count": 1,
   "id": "ad0533f2",
   "metadata": {},
   "outputs": [
    {
     "name": "stdout",
     "output_type": "stream",
     "text": [
      "3 * 1 = 3\n",
      "3 * 2 = 6\n",
      "3 * 3 = 9\n",
      "3 * 4 = 12\n",
      "3 * 5 = 15\n",
      "3 * 6 = 18\n",
      "3 * 7 = 21\n",
      "3 * 8 = 24\n",
      "3 * 9 = 27\n",
      "3 * 10 = 30\n"
     ]
    }
   ],
   "source": [
    "i=1\n",
    "n=3\n",
    "while i<=10:\n",
    "    print(n,\"*\",i,\"=\",n*i)\n",
    "    i=i+1"
   ]
  },
  {
   "cell_type": "code",
   "execution_count": null,
   "id": "c79f8c2e",
   "metadata": {},
   "outputs": [],
   "source": [
    "#for loop\n",
    "#used to iterate over a sequence (tuple,list,dict)"
   ]
  },
  {
   "cell_type": "code",
   "execution_count": 2,
   "id": "c09c0201",
   "metadata": {},
   "outputs": [],
   "source": [
    "l1= [\"mango\",\"lemon\",\"apple\"]"
   ]
  },
  {
   "cell_type": "code",
   "execution_count": 3,
   "id": "d1de613a",
   "metadata": {},
   "outputs": [
    {
     "name": "stdout",
     "output_type": "stream",
     "text": [
      "mango\n",
      "lemon\n",
      "apple\n"
     ]
    }
   ],
   "source": [
    "for i in l1:\n",
    "    print(i)"
   ]
  },
  {
   "cell_type": "code",
   "execution_count": 4,
   "id": "7de04d2f",
   "metadata": {},
   "outputs": [],
   "source": [
    "l1=[\"orange\",\"black\",\"white\"]\n",
    "l2=[\"chair\",\"book\",\"laptop\"]"
   ]
  },
  {
   "cell_type": "code",
   "execution_count": 5,
   "id": "32023449",
   "metadata": {},
   "outputs": [
    {
     "name": "stdout",
     "output_type": "stream",
     "text": [
      "orange chair\n",
      "orange book\n",
      "orange laptop\n",
      "black chair\n",
      "black book\n",
      "black laptop\n",
      "white chair\n",
      "white book\n",
      "white laptop\n"
     ]
    }
   ],
   "source": [
    "for i in l1 :\n",
    "    for j in l2:\n",
    "        print(i,j)"
   ]
  },
  {
   "cell_type": "code",
   "execution_count": null,
   "id": "a6a91bfe",
   "metadata": {},
   "outputs": [],
   "source": [
    "#functions"
   ]
  },
  {
   "cell_type": "code",
   "execution_count": 6,
   "id": "7ca1325f",
   "metadata": {},
   "outputs": [],
   "source": [
    "def hello():\n",
    "    print(\"hello world\")"
   ]
  },
  {
   "cell_type": "code",
   "execution_count": 7,
   "id": "af41c803",
   "metadata": {},
   "outputs": [
    {
     "name": "stdout",
     "output_type": "stream",
     "text": [
      "hello world\n"
     ]
    }
   ],
   "source": [
    "hello()"
   ]
  },
  {
   "cell_type": "code",
   "execution_count": 8,
   "id": "84a2591e",
   "metadata": {},
   "outputs": [],
   "source": [
    "def add_10(x):\n",
    "    return x+10"
   ]
  },
  {
   "cell_type": "code",
   "execution_count": 9,
   "id": "08531f55",
   "metadata": {},
   "outputs": [
    {
     "data": {
      "text/plain": [
       "19"
      ]
     },
     "execution_count": 9,
     "metadata": {},
     "output_type": "execute_result"
    }
   ],
   "source": [
    "add_10(9)"
   ]
  },
  {
   "cell_type": "code",
   "execution_count": 3,
   "id": "ca37832f",
   "metadata": {},
   "outputs": [],
   "source": [
    "def odd_even(x):\n",
    "    if x%2==0:\n",
    "        print(x,\"is even\")\n",
    "    else:\n",
    "        print(x,\"is odd\")"
   ]
  },
  {
   "cell_type": "code",
   "execution_count": 6,
   "id": "cc091ef1",
   "metadata": {},
   "outputs": [
    {
     "name": "stdout",
     "output_type": "stream",
     "text": [
      "14.6 is odd\n"
     ]
    }
   ],
   "source": [
    "odd_even(14.6)"
   ]
  },
  {
   "cell_type": "code",
   "execution_count": 7,
   "id": "b564dd1e",
   "metadata": {},
   "outputs": [
    {
     "name": "stdout",
     "output_type": "stream",
     "text": [
      "10 is even\n"
     ]
    }
   ],
   "source": [
    "odd_even(10)"
   ]
  },
  {
   "cell_type": "code",
   "execution_count": 8,
   "id": "47edcfdc",
   "metadata": {},
   "outputs": [
    {
     "data": {
      "text/plain": [
       "1000"
      ]
     },
     "execution_count": 8,
     "metadata": {},
     "output_type": "execute_result"
    }
   ],
   "source": [
    "a=lambda x:x*x*x\n",
    "a(10)"
   ]
  },
  {
   "cell_type": "code",
   "execution_count": 9,
   "id": "337712a3",
   "metadata": {},
   "outputs": [
    {
     "data": {
      "text/plain": [
       "125"
      ]
     },
     "execution_count": 9,
     "metadata": {},
     "output_type": "execute_result"
    }
   ],
   "source": [
    "a(5)"
   ]
  },
  {
   "cell_type": "code",
   "execution_count": null,
   "id": "c4b5e312",
   "metadata": {},
   "outputs": [],
   "source": [
    "#lambda with filter\n"
   ]
  },
  {
   "cell_type": "code",
   "execution_count": 15,
   "id": "b1009927",
   "metadata": {},
   "outputs": [],
   "source": [
    "l1=[10,11,12,13,14,15,16,17,18]\n",
    "\n",
    "final_list=list(filter(lambda x:(x%2==0),l1))"
   ]
  },
  {
   "cell_type": "code",
   "execution_count": 16,
   "id": "cbaacb20",
   "metadata": {},
   "outputs": [
    {
     "data": {
      "text/plain": [
       "[10, 12, 14, 16, 18]"
      ]
     },
     "execution_count": 16,
     "metadata": {},
     "output_type": "execute_result"
    }
   ],
   "source": [
    "final_list"
   ]
  },
  {
   "cell_type": "code",
   "execution_count": 18,
   "id": "84573c40",
   "metadata": {},
   "outputs": [],
   "source": [
    "l1=[10,11,12,13,14,15,16,17,18]\n",
    "\n",
    "final_list2=list(filter(lambda x:(x%2!=0),l1))"
   ]
  },
  {
   "cell_type": "code",
   "execution_count": 19,
   "id": "5f1dab05",
   "metadata": {},
   "outputs": [
    {
     "data": {
      "text/plain": [
       "[11, 13, 15, 17]"
      ]
     },
     "execution_count": 19,
     "metadata": {},
     "output_type": "execute_result"
    }
   ],
   "source": [
    "final_list2"
   ]
  },
  {
   "cell_type": "code",
   "execution_count": null,
   "id": "ccc7c81e",
   "metadata": {},
   "outputs": [],
   "source": [
    "#lambda with map"
   ]
  },
  {
   "cell_type": "code",
   "execution_count": 22,
   "id": "3c5d2ab9",
   "metadata": {},
   "outputs": [],
   "source": [
    "l1=[1,2,3,4,5,6]\n"
   ]
  },
  {
   "cell_type": "code",
   "execution_count": 23,
   "id": "22860016",
   "metadata": {},
   "outputs": [],
   "source": [
    "final_list_3=list(map(lambda x:x*2,l1))"
   ]
  },
  {
   "cell_type": "code",
   "execution_count": 24,
   "id": "ba7dcf43",
   "metadata": {},
   "outputs": [
    {
     "data": {
      "text/plain": [
       "[2, 4, 6, 8, 10, 12]"
      ]
     },
     "execution_count": 24,
     "metadata": {},
     "output_type": "execute_result"
    }
   ],
   "source": [
    "final_list_3"
   ]
  },
  {
   "cell_type": "code",
   "execution_count": 25,
   "id": "b71d80f2",
   "metadata": {},
   "outputs": [],
   "source": [
    "from functools import reduce "
   ]
  },
  {
   "cell_type": "code",
   "execution_count": 26,
   "id": "de812ff7",
   "metadata": {},
   "outputs": [],
   "source": [
    "sum=reduce(lambda x,y:x+y,l1)"
   ]
  },
  {
   "cell_type": "code",
   "execution_count": 27,
   "id": "b57843cf",
   "metadata": {},
   "outputs": [
    {
     "data": {
      "text/plain": [
       "21"
      ]
     },
     "execution_count": 27,
     "metadata": {},
     "output_type": "execute_result"
    }
   ],
   "source": [
    "sum"
   ]
  },
  {
   "cell_type": "code",
   "execution_count": null,
   "id": "c2ee3125",
   "metadata": {},
   "outputs": [],
   "source": [
    "#object oriented programming"
   ]
  },
  {
   "cell_type": "code",
   "execution_count": 1,
   "id": "7cd97606",
   "metadata": {},
   "outputs": [],
   "source": [
    "class Phone :\n",
    "    def make_call(self):\n",
    "        print(\"I am making phone call\")\n",
    "    def play_game(self):\n",
    "        print(\"I am playing game\")"
   ]
  },
  {
   "cell_type": "code",
   "execution_count": 2,
   "id": "85a716d9",
   "metadata": {},
   "outputs": [],
   "source": [
    "p1=Phone()"
   ]
  },
  {
   "cell_type": "code",
   "execution_count": 3,
   "id": "87b67737",
   "metadata": {},
   "outputs": [
    {
     "name": "stdout",
     "output_type": "stream",
     "text": [
      "I am making phone call\n"
     ]
    }
   ],
   "source": [
    "p1.make_call()"
   ]
  },
  {
   "cell_type": "code",
   "execution_count": 4,
   "id": "a4e5b48c",
   "metadata": {},
   "outputs": [
    {
     "name": "stdout",
     "output_type": "stream",
     "text": [
      "I am playing game\n"
     ]
    }
   ],
   "source": [
    "p1.play_game()"
   ]
  },
  {
   "cell_type": "code",
   "execution_count": 8,
   "id": "1a41bdbf",
   "metadata": {},
   "outputs": [],
   "source": [
    "class Phone:\n",
    "    def set_color(self,color):\n",
    "        self.color=color\n",
    "    def set_cost(self,cost):\n",
    "        self.cost=cost\n",
    "    def show_color(self):\n",
    "        return self.color\n",
    "    def show_cost(self):\n",
    "        return self.cost\n",
    "    def make_call(self):\n",
    "        print(\"i am making call\")\n",
    "    def play_game(self):\n",
    "        print(\"i am playing game\")"
   ]
  },
  {
   "cell_type": "code",
   "execution_count": 9,
   "id": "be1e0173",
   "metadata": {},
   "outputs": [],
   "source": [
    "p2= Phone()"
   ]
  },
  {
   "cell_type": "code",
   "execution_count": 10,
   "id": "ffa0b818",
   "metadata": {},
   "outputs": [],
   "source": [
    "p2.set_color(\"red\")"
   ]
  },
  {
   "cell_type": "code",
   "execution_count": 11,
   "id": "3afc2d17",
   "metadata": {},
   "outputs": [],
   "source": [
    "p2.set_cost(9000)"
   ]
  },
  {
   "cell_type": "code",
   "execution_count": 12,
   "id": "09504cf8",
   "metadata": {},
   "outputs": [
    {
     "data": {
      "text/plain": [
       "'red'"
      ]
     },
     "execution_count": 12,
     "metadata": {},
     "output_type": "execute_result"
    }
   ],
   "source": [
    "p2.show_color()"
   ]
  },
  {
   "cell_type": "code",
   "execution_count": 13,
   "id": "89fd6db9",
   "metadata": {},
   "outputs": [
    {
     "data": {
      "text/plain": [
       "9000"
      ]
     },
     "execution_count": 13,
     "metadata": {},
     "output_type": "execute_result"
    }
   ],
   "source": [
    "p2.show_cost()"
   ]
  },
  {
   "cell_type": "code",
   "execution_count": 14,
   "id": "6cfddf2a",
   "metadata": {},
   "outputs": [
    {
     "name": "stdout",
     "output_type": "stream",
     "text": [
      "i am making call\n"
     ]
    }
   ],
   "source": [
    "p2.make_call()"
   ]
  },
  {
   "cell_type": "code",
   "execution_count": 15,
   "id": "52b625c6",
   "metadata": {},
   "outputs": [
    {
     "name": "stdout",
     "output_type": "stream",
     "text": [
      "i am playing game\n"
     ]
    }
   ],
   "source": [
    "p2.play_game()"
   ]
  },
  {
   "cell_type": "code",
   "execution_count": 16,
   "id": "8643728d",
   "metadata": {},
   "outputs": [],
   "source": [
    "#creating a class with constructor"
   ]
  },
  {
   "cell_type": "code",
   "execution_count": 19,
   "id": "229e90d0",
   "metadata": {},
   "outputs": [],
   "source": [
    "class Employee:\n",
    "    def __init__(self,name,age,gender,salary,address):\n",
    "        self.name = name\n",
    "        self.age = age\n",
    "        self.gender =gender\n",
    "        self.salary = salary\n",
    "        self.address =address\n",
    "        \n",
    "    def show_employee_details(self):\n",
    "        print(\"Name of Employee is\",self.name)\n",
    "        print(\"Age of Employee is\",self.age)\n",
    "        print(\"Gender of Employee is\",self.gender)\n",
    "        print(\"Salary of Employee is\",self.salary)\n",
    "        print(\"Address of Employee is\",self.address)"
   ]
  },
  {
   "cell_type": "code",
   "execution_count": 20,
   "id": "9d2a17bf",
   "metadata": {},
   "outputs": [],
   "source": [
    "e1=Employee(\"Sourabh\",25,\"Male\",50000,\"kolhapur\")    #instantiating the e1 object"
   ]
  },
  {
   "cell_type": "code",
   "execution_count": 21,
   "id": "e705ce07",
   "metadata": {},
   "outputs": [
    {
     "name": "stdout",
     "output_type": "stream",
     "text": [
      "Name of Employee is Sourabh\n",
      "Age of Employee is 25\n",
      "Gender of Employee is Male\n",
      "Salary of Employee is 50000\n",
      "Address of Employee is kolhapur\n"
     ]
    }
   ],
   "source": [
    "e1.show_employee_details()"
   ]
  },
  {
   "cell_type": "code",
   "execution_count": 22,
   "id": "e56b3a29",
   "metadata": {},
   "outputs": [],
   "source": [
    "#basic inheritance\n",
    "\n",
    "class Vehicle:                           #main_class\n",
    "    def __init__(self,mileage,cost):\n",
    "        self.mileage=mileage\n",
    "        self.cost=cost\n",
    "        \n",
    "    def show_vehicle_details(self):\n",
    "        print(\"mileage of vehicle is\",self.mileage)\n",
    "        print(\"cost of vehicle is \",self.cost)"
   ]
  },
  {
   "cell_type": "code",
   "execution_count": 23,
   "id": "e7064eaa",
   "metadata": {},
   "outputs": [],
   "source": [
    "v1=Vehicle(20,1400000)"
   ]
  },
  {
   "cell_type": "code",
   "execution_count": 24,
   "id": "cba104e2",
   "metadata": {},
   "outputs": [
    {
     "name": "stdout",
     "output_type": "stream",
     "text": [
      "mileage of vehicle is 20\n",
      "cost of vehicle is  1400000\n"
     ]
    }
   ],
   "source": [
    "v1.show_vehicle_details()"
   ]
  },
  {
   "cell_type": "code",
   "execution_count": 25,
   "id": "6f5fccf7",
   "metadata": {},
   "outputs": [],
   "source": [
    "class Car(Vehicle):            #Sub_Class\n",
    "    def show_car_details(self):\n",
    "        print(\"I am car\")"
   ]
  },
  {
   "cell_type": "code",
   "execution_count": 26,
   "id": "12e674fd",
   "metadata": {},
   "outputs": [],
   "source": [
    "c1=Car(25,1000000)"
   ]
  },
  {
   "cell_type": "code",
   "execution_count": 36,
   "id": "8be5f00d",
   "metadata": {},
   "outputs": [
    {
     "name": "stdout",
     "output_type": "stream",
     "text": [
      "mileage of vehicle is 25\n",
      "cost of vehicle is  1000000\n"
     ]
    }
   ],
   "source": [
    "c1.show_vehicle_details()"
   ]
  },
  {
   "cell_type": "code",
   "execution_count": 37,
   "id": "d10b3d54",
   "metadata": {},
   "outputs": [
    {
     "name": "stdout",
     "output_type": "stream",
     "text": [
      "I am car\n"
     ]
    }
   ],
   "source": [
    "c1.show_car_details()"
   ]
  },
  {
   "cell_type": "code",
   "execution_count": 38,
   "id": "1fd06aad",
   "metadata": {},
   "outputs": [],
   "source": [
    "#over-riding init method"
   ]
  },
  {
   "cell_type": "code",
   "execution_count": 22,
   "id": "55190065",
   "metadata": {},
   "outputs": [],
   "source": [
    "class Vehicle2:\n",
    "    def __init__(self,mileage,cost):\n",
    "        self.mileage=mileage\n",
    "        self.cost=cost\n",
    "        \n",
    "    def show_vehicle_details(self):\n",
    "        print(\"Mileage of vehicle is\",self.mileage)\n",
    "        print(\"Cost of vehicle is\",self.cost)\n",
    "        print(\"i am a vehicle\")"
   ]
  },
  {
   "cell_type": "code",
   "execution_count": 23,
   "id": "719ce7a7",
   "metadata": {},
   "outputs": [],
   "source": [
    "v1=Vehicle2(25,1400000)"
   ]
  },
  {
   "cell_type": "code",
   "execution_count": 32,
   "id": "57f26ec0",
   "metadata": {},
   "outputs": [],
   "source": [
    "class Car:\n",
    "    def __init__(self,mileage,cost,tyres,hp):\n",
    "        super().__init__(mileage,cost)\n",
    "        self.tyres=tyres\n",
    "        self.hp=hp\n",
    "        \n",
    "    def show_car_details(self):\n",
    "        print(\"number of tyes in car\",self.tyres)\n",
    "        print(\"horsepower of car\",self.hp)\n",
    "        print(\"i am car\")"
   ]
  },
  {
   "cell_type": "code",
   "execution_count": 31,
   "id": "463ae516",
   "metadata": {},
   "outputs": [],
   "source": [
    "c1=Car"
   ]
  },
  {
   "cell_type": "code",
   "execution_count": null,
   "id": "2c8515f3",
   "metadata": {},
   "outputs": [],
   "source": [
    "#types of inheritance\n",
    "#single inheritane\n",
    "#multiple inheritance\n",
    "#multi level inheritance\n",
    "#hybrid inheritance"
   ]
  },
  {
   "cell_type": "code",
   "execution_count": 1,
   "id": "da78ae65",
   "metadata": {},
   "outputs": [],
   "source": [
    "class Parent1:\n",
    "    def assign_string_one(self,str1):\n",
    "        self.str1=str1\n",
    "    def show_string_one(self):\n",
    "        return self.str1\n",
    "class Parent2:\n",
    "    def assign_sting_two(self,str2):\n",
    "        self.str2=str2\n",
    "    def show_string_two(self):\n",
    "        return self.str2  \n",
    "class Child(Parent1,Parent2):\n",
    "    def assign_string_three(self,str3):\n",
    "        self.str3=str3\n",
    "    def show_string_three(self):\n",
    "        return self.str3    "
   ]
  },
  {
   "cell_type": "code",
   "execution_count": null,
   "id": "876c22dc",
   "metadata": {},
   "outputs": [],
   "source": []
  }
 ],
 "metadata": {
  "kernelspec": {
   "display_name": "Python 3",
   "language": "python",
   "name": "python3"
  },
  "language_info": {
   "codemirror_mode": {
    "name": "ipython",
    "version": 3
   },
   "file_extension": ".py",
   "mimetype": "text/x-python",
   "name": "python",
   "nbconvert_exporter": "python",
   "pygments_lexer": "ipython3",
   "version": "3.8.8"
  }
 },
 "nbformat": 4,
 "nbformat_minor": 5
}
