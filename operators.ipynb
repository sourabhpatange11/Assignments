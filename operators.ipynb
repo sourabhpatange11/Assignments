{
 "cells": [
  {
   "cell_type": "code",
   "execution_count": 1,
   "id": "5b065a8d",
   "metadata": {},
   "outputs": [],
   "source": [
    "#Airthmetic operations"
   ]
  },
  {
   "cell_type": "code",
   "execution_count": 2,
   "id": "5ee17501",
   "metadata": {},
   "outputs": [
    {
     "name": "stdout",
     "output_type": "stream",
     "text": [
      "a+b= 14\n"
     ]
    }
   ],
   "source": [
    "a=5\n",
    "b=9\n",
    "print(\"a+b=\",a+b)"
   ]
  },
  {
   "cell_type": "code",
   "execution_count": 3,
   "id": "83bcc41e",
   "metadata": {},
   "outputs": [
    {
     "name": "stdout",
     "output_type": "stream",
     "text": [
      "14\n"
     ]
    }
   ],
   "source": [
    "a=5\n",
    "b=9\n",
    "print(a+b)"
   ]
  },
  {
   "cell_type": "code",
   "execution_count": 4,
   "id": "11d82e21",
   "metadata": {},
   "outputs": [
    {
     "data": {
      "text/plain": [
       "14"
      ]
     },
     "execution_count": 4,
     "metadata": {},
     "output_type": "execute_result"
    }
   ],
   "source": [
    "a+b"
   ]
  },
  {
   "cell_type": "code",
   "execution_count": 5,
   "id": "cd884f80",
   "metadata": {},
   "outputs": [
    {
     "data": {
      "text/plain": [
       "-4"
      ]
     },
     "execution_count": 5,
     "metadata": {},
     "output_type": "execute_result"
    }
   ],
   "source": [
    "a-b"
   ]
  },
  {
   "cell_type": "code",
   "execution_count": 6,
   "id": "5bb020f3",
   "metadata": {},
   "outputs": [
    {
     "data": {
      "text/plain": [
       "4"
      ]
     },
     "execution_count": 6,
     "metadata": {},
     "output_type": "execute_result"
    }
   ],
   "source": [
    "b-a"
   ]
  },
  {
   "cell_type": "code",
   "execution_count": 7,
   "id": "c83d9312",
   "metadata": {},
   "outputs": [
    {
     "name": "stdout",
     "output_type": "stream",
     "text": [
      "a+b 30\n",
      "a-b -10\n",
      "a*b 200\n",
      "a/b 0.5\n",
      "a//b 0\n",
      "a%b 10\n",
      "a**b= 100000000000000000000\n"
     ]
    }
   ],
   "source": [
    "a=10\n",
    "b=20\n",
    "print(\"a+b\",a+b)\n",
    "print(\"a-b\",a-b)\n",
    "print(\"a*b\",a*b)\n",
    "print(\"a/b\",a/b)\n",
    "print(\"a//b\",a//b)\n",
    "print(\"a%b\",a%b)\n",
    "print(\"a**b=\",a**b)"
   ]
  },
  {
   "cell_type": "code",
   "execution_count": 8,
   "id": "7b368248",
   "metadata": {
    "scrolled": true
   },
   "outputs": [
    {
     "name": "stdout",
     "output_type": "stream",
     "text": [
      "a+b 50\n",
      "a-b -10\n",
      "a*b 600\n",
      "a/b 0.6666666666666666\n",
      "a%b 20\n",
      "a**b 1073741824000000000000000000000000000000\n"
     ]
    }
   ],
   "source": [
    "a=20\n",
    "b=30\n",
    "print(\"a+b\",a+b)\n",
    "print(\"a-b\",a-b)\n",
    "print(\"a*b\",a*b)\n",
    "print(\"a/b\",a/b)\n",
    "print(\"a%b\",a%b)\n",
    "print(\"a**b\",a**b)"
   ]
  },
  {
   "cell_type": "code",
   "execution_count": 9,
   "id": "0ae82017",
   "metadata": {},
   "outputs": [],
   "source": [
    "#Rational operators"
   ]
  },
  {
   "cell_type": "code",
   "execution_count": 10,
   "id": "a4d4f111",
   "metadata": {},
   "outputs": [
    {
     "name": "stdout",
     "output_type": "stream",
     "text": [
      "a>b is False\n",
      "a<b is True\n",
      "a>=b is False\n",
      "a<=b is True\n"
     ]
    }
   ],
   "source": [
    "a=10\n",
    "b=20\n",
    "print(\"a>b is\",a>b)\n",
    "print(\"a<b is\",a<b)\n",
    "print(\"a>=b is\",a>=b)\n",
    "print(\"a<=b is\",a<=b)"
   ]
  },
  {
   "cell_type": "code",
   "execution_count": 11,
   "id": "416d6a10",
   "metadata": {},
   "outputs": [
    {
     "name": "stdout",
     "output_type": "stream",
     "text": [
      "a is not greater than b\n"
     ]
    }
   ],
   "source": [
    "a=10\n",
    "b=20\n",
    "if(a>b):\n",
    "    print(\"a is greater than b\")\n",
    "else:\n",
    "    print(\"a is not greater than b\")"
   ]
  },
  {
   "cell_type": "code",
   "execution_count": 12,
   "id": "27e19abe",
   "metadata": {},
   "outputs": [
    {
     "name": "stdout",
     "output_type": "stream",
     "text": [
      "b is greater than a\n"
     ]
    }
   ],
   "source": [
    "a=20\n",
    "b=30\n",
    "if(b<a):\n",
    "    print(\"b is smaller than a\")\n",
    "else:\n",
    "    print(\"b is greater than a\")"
   ]
  },
  {
   "cell_type": "code",
   "execution_count": 13,
   "id": "b3d0ebf4",
   "metadata": {},
   "outputs": [
    {
     "name": "stdout",
     "output_type": "stream",
     "text": [
      "b is greater than a\n"
     ]
    }
   ],
   "source": [
    "a=25\n",
    "b=50\n",
    "if(a>b):\n",
    "    print(\"a is greater than b\")\n",
    "else:\n",
    "    print(\"b is greater than a\")"
   ]
  },
  {
   "cell_type": "code",
   "execution_count": 14,
   "id": "cd8b15dd",
   "metadata": {},
   "outputs": [],
   "source": [
    "#Program for minimum of 3 numbers\n"
   ]
  },
  {
   "cell_type": "code",
   "execution_count": 15,
   "id": "0d6a6ed7",
   "metadata": {},
   "outputs": [
    {
     "name": "stdout",
     "output_type": "stream",
     "text": [
      "enter first number:10\n",
      "enter second number:20\n",
      "enter third number:25\n",
      "Minimum Value: 10\n"
     ]
    }
   ],
   "source": [
    "a=int(input(\"enter first number:\"))\n",
    "b=int(input(\"enter second number:\"))\n",
    "c=int(input(\"enter third number:\"))\n",
    "min=a if a<b and a<c else b if b<c else c\n",
    "print(\"Minimum Value:\",min)"
   ]
  },
  {
   "cell_type": "code",
   "execution_count": 16,
   "id": "bf6eb9b6",
   "metadata": {},
   "outputs": [
    {
     "name": "stdout",
     "output_type": "stream",
     "text": [
      "enter first number:10\n",
      "enter second number:11\n",
      "enter third number:1\n",
      "Minimum Value: 1\n"
     ]
    }
   ],
   "source": [
    "a=int(input(\"enter first number:\"))\n",
    "b=int(input(\"enter second number:\"))\n",
    "c=int(input(\"enter third number:\"))\n",
    "min=a if a<b and a<c else b if b<c else c\n",
    "print(\"Minimum Value:\",min)"
   ]
  },
  {
   "cell_type": "code",
   "execution_count": 17,
   "id": "c97aa7a7",
   "metadata": {},
   "outputs": [],
   "source": [
    "#program for maximum of 3 numbers"
   ]
  },
  {
   "cell_type": "code",
   "execution_count": 18,
   "id": "2e3f2063",
   "metadata": {},
   "outputs": [
    {
     "name": "stdout",
     "output_type": "stream",
     "text": [
      "enter first number:20\n",
      "enter second number:0\n",
      "enter third number21\n",
      "maximum value: 21\n"
     ]
    }
   ],
   "source": [
    "a=int(input(\"enter first number:\"))\n",
    "b=int(input(\"enter second number:\"))\n",
    "c=int(input(\"enter third number\"))\n",
    "max=a if a>b and a>c else b if b>c else c\n",
    "print (\"maximum value:\",max)\n"
   ]
  },
  {
   "cell_type": "code",
   "execution_count": 19,
   "id": "49fa5b48",
   "metadata": {},
   "outputs": [],
   "source": [
    "#input and output statements"
   ]
  },
  {
   "cell_type": "code",
   "execution_count": 20,
   "id": "4d5ac21e",
   "metadata": {},
   "outputs": [],
   "source": [
    "#write  a program to read 2 no.s from the keyboard and print sum"
   ]
  },
  {
   "cell_type": "code",
   "execution_count": 21,
   "id": "98d316a6",
   "metadata": {},
   "outputs": [
    {
     "name": "stdout",
     "output_type": "stream",
     "text": [
      "enter first number:45\n",
      "enter second number:45\n",
      "the sum: 90\n"
     ]
    }
   ],
   "source": [
    "x=input(\"enter first number:\")\n",
    "y=input(\"enter second number:\")\n",
    "i=int(x)\n",
    "j=int(y)\n",
    "print(\"the sum:\",i +j)\n"
   ]
  },
  {
   "cell_type": "code",
   "execution_count": 22,
   "id": "81095785",
   "metadata": {},
   "outputs": [
    {
     "name": "stdout",
     "output_type": "stream",
     "text": [
      "enter first number:6\n",
      "enter second number:62\n",
      "the sum of: 68.0\n"
     ]
    }
   ],
   "source": [
    "x=input(\"enter first number:\")\n",
    "y=input(\"enter second number:\")\n",
    "i=float(x)\n",
    "j=float(y)\n",
    "print(\"the sum of:\",i+j)"
   ]
  },
  {
   "cell_type": "code",
   "execution_count": 23,
   "id": "c0fb4792",
   "metadata": {},
   "outputs": [],
   "source": [
    "#write a program to read employee data from keyboard and print that data"
   ]
  },
  {
   "cell_type": "code",
   "execution_count": 24,
   "id": "089d3f05",
   "metadata": {},
   "outputs": [
    {
     "name": "stdout",
     "output_type": "stream",
     "text": [
      "enter employee no:01\n",
      "enter employee name:Sourabh Patange\n"
     ]
    }
   ],
   "source": [
    "eno=int(input(\"enter employee no:\"))\n",
    "ename=input(\"enter employee name:\")"
   ]
  },
  {
   "cell_type": "code",
   "execution_count": 26,
   "id": "e6707e3b",
   "metadata": {},
   "outputs": [
    {
     "name": "stdout",
     "output_type": "stream",
     "text": [
      "Enter Employee Number:01\n",
      "Enter Employee Name:Sourabh Patange\n",
      "Enter Employee Salary:15000\n",
      "Employee Address:Plot No.62,Neharu Nagar,Kolhapur\n",
      "Employee Married?[True/False]:False\n",
      "Please Confirm Information\n",
      "Employee No : 1\n",
      "Employee Name: Sourabh Patange\n",
      "Employee Salary: 15000.0\n",
      "Employee Address: Plot No.62,Neharu Nagar,Kolhapur\n",
      "Employee Married ?: True\n"
     ]
    }
   ],
   "source": [
    "eno=int(input(\"Enter Employee Number:\"))\n",
    "ename=input(\"Enter Employee Name:\")\n",
    "esal=float(input(\"Enter Employee Salary:\"))\n",
    "eaddress=input(\"Employee Address:\")\n",
    "married=bool(input(\"Employee Married?[True/False]:\"))\n",
    "print(\"Please Confirm Information\")\n",
    "print(\"Employee No :\",eno)\n",
    "print(\"Employee Name:\",ename)\n",
    "print(\"Employee Salary:\",esal)\n",
    "print(\"Employee Address:\",eaddress)\n",
    "print(\"Employee Married ?:\",married)"
   ]
  },
  {
   "cell_type": "code",
   "execution_count": null,
   "id": "dc2f66e7",
   "metadata": {},
   "outputs": [],
   "source": []
  }
 ],
 "metadata": {
  "kernelspec": {
   "display_name": "Python 3",
   "language": "python",
   "name": "python3"
  },
  "language_info": {
   "codemirror_mode": {
    "name": "ipython",
    "version": 3
   },
   "file_extension": ".py",
   "mimetype": "text/x-python",
   "name": "python",
   "nbconvert_exporter": "python",
   "pygments_lexer": "ipython3",
   "version": "3.8.8"
  }
 },
 "nbformat": 4,
 "nbformat_minor": 5
}
